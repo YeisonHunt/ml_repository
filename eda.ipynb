{
 "cells": [
  {
   "cell_type": "code",
   "execution_count": 1,
   "source": [
    "import pandas as pd\r\n",
    "\r\n",
    "df = pd.read_csv('datasets/sample_dataset.csv')\r\n",
    "df.head()"
   ],
   "outputs": [
    {
     "output_type": "execute_result",
     "data": {
      "text/html": [
       "<div>\n",
       "<style scoped>\n",
       "    .dataframe tbody tr th:only-of-type {\n",
       "        vertical-align: middle;\n",
       "    }\n",
       "\n",
       "    .dataframe tbody tr th {\n",
       "        vertical-align: top;\n",
       "    }\n",
       "\n",
       "    .dataframe thead th {\n",
       "        text-align: right;\n",
       "    }\n",
       "</style>\n",
       "<table border=\"1\" class=\"dataframe\">\n",
       "  <thead>\n",
       "    <tr style=\"text-align: right;\">\n",
       "      <th></th>\n",
       "      <th>time</th>\n",
       "      <th>bitrate</th>\n",
       "      <th>jitter</th>\n",
       "      <th>packetloss</th>\n",
       "      <th>delay</th>\n",
       "    </tr>\n",
       "  </thead>\n",
       "  <tbody>\n",
       "    <tr>\n",
       "      <td>0</td>\n",
       "      <td>3.570</td>\n",
       "      <td>2.128852</td>\n",
       "      <td>0.003219</td>\n",
       "      <td>0</td>\n",
       "      <td>0.024218</td>\n",
       "    </tr>\n",
       "    <tr>\n",
       "      <td>1</td>\n",
       "      <td>4.998</td>\n",
       "      <td>3.215686</td>\n",
       "      <td>0.001008</td>\n",
       "      <td>0</td>\n",
       "      <td>0.025226</td>\n",
       "    </tr>\n",
       "    <tr>\n",
       "      <td>2</td>\n",
       "      <td>7.140</td>\n",
       "      <td>2.509804</td>\n",
       "      <td>0.000470</td>\n",
       "      <td>0</td>\n",
       "      <td>0.024756</td>\n",
       "    </tr>\n",
       "    <tr>\n",
       "      <td>3</td>\n",
       "      <td>8.568</td>\n",
       "      <td>2.252101</td>\n",
       "      <td>0.004295</td>\n",
       "      <td>0</td>\n",
       "      <td>0.020461</td>\n",
       "    </tr>\n",
       "    <tr>\n",
       "      <td>4</td>\n",
       "      <td>0.714</td>\n",
       "      <td>1.871148</td>\n",
       "      <td>0.006801</td>\n",
       "      <td>0</td>\n",
       "      <td>0.040653</td>\n",
       "    </tr>\n",
       "  </tbody>\n",
       "</table>\n",
       "</div>"
      ],
      "text/plain": [
       "    time   bitrate    jitter  packetloss    delay \n",
       "0  3.570  2.128852  0.003219           0  0.024218\n",
       "1  4.998  3.215686  0.001008           0  0.025226\n",
       "2  7.140  2.509804  0.000470           0  0.024756\n",
       "3  8.568  2.252101  0.004295           0  0.020461\n",
       "4  0.714  1.871148  0.006801           0  0.040653"
      ]
     },
     "metadata": {},
     "execution_count": 1
    }
   ],
   "metadata": {}
  },
  {
   "cell_type": "code",
   "execution_count": 3,
   "source": [
    "df.shape"
   ],
   "outputs": [
    {
     "output_type": "execute_result",
     "data": {
      "text/plain": [
       "(610307, 5)"
      ]
     },
     "metadata": {},
     "execution_count": 3
    }
   ],
   "metadata": {}
  },
  {
   "cell_type": "code",
   "execution_count": null,
   "source": [],
   "outputs": [],
   "metadata": {}
  }
 ],
 "metadata": {
  "orig_nbformat": 4,
  "language_info": {
   "name": "python",
   "version": "3.7.4",
   "mimetype": "text/x-python",
   "codemirror_mode": {
    "name": "ipython",
    "version": 3
   },
   "pygments_lexer": "ipython3",
   "nbconvert_exporter": "python",
   "file_extension": ".py"
  },
  "kernelspec": {
   "name": "python3",
   "display_name": "Python 3.7.4 64-bit ('base': conda)"
  },
  "interpreter": {
   "hash": "b5552c8101d78e0c29410aff1830fecb0f002c740777f43a5549bce50a029a97"
  }
 },
 "nbformat": 4,
 "nbformat_minor": 2
}